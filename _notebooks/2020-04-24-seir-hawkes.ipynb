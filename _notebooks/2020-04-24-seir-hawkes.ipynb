{
 "cells": [
  {
   "cell_type": "markdown",
   "metadata": {},
   "source": [
    "# The Relation between the SEIR Epidemic Model and Hawkes Processes\n",
    "> Recently, a link between the SIR compartmental epidemic model and Hawkes-like processes was found. This opens up the possibility to use some of the rich theory related to Hawkes processes when analyzing spreads of diseases using the SIR model. As the SIR model is not capable of modeling incubation times – a feature inherent in Covid-19 and many other diseases – there is a need to extend the recently found link to more complex compartmental epidemic models like the SEIR model. We have discovered this link and present it briefly in this blog post.\n",
    "- toc: false\n",
    "- branch: master\n",
    "- badges: true\n",
    "- comments: true\n",
    "- categories: [epidemic models]\n",
    "- hide: false\n",
    "- search_exclude: true"
   ]
  },
  {
   "cell_type": "code",
   "execution_count": 1,
   "metadata": {},
   "outputs": [],
   "source": [
    "#hide\n",
    "import altair as alt"
   ]
  },
  {
   "cell_type": "code",
   "execution_count": 2,
   "metadata": {},
   "outputs": [],
   "source": [
    "#hide\n",
    "from sim_params import *"
   ]
  },
  {
   "cell_type": "code",
   "execution_count": 3,
   "metadata": {},
   "outputs": [],
   "source": [
    "#hide\n",
    "slider_beta = alt.binding_range(min=beta_min, max=beta_max, step=beta_step, name=\"\\u03b2 \")\n",
    "slider_sigma = alt.binding_range(min=gamma_min, max=gamma_max, step=gamma_step, name=\"\\u03c3 \")\n",
    "slider_gamma = alt.binding_range(min=gamma_min, max=gamma_max, step=gamma_step, name=\"\\u03b3 \")\n",
    "\n",
    "select_beta = alt.selection_single(\n",
    "    fields=[\"beta\"],\n",
    "    bind={\"beta\": slider_beta},\n",
    "    init={\"beta\": 1},\n",
    "    name=\"parameter_beta\"\n",
    ")\n",
    "\n",
    "select_gamma = alt.selection_single(\n",
    "    fields=[\"gamma\"],\n",
    "    bind={\"gamma\": slider_gamma},\n",
    "    init={\"gamma\": .1},\n",
    "    name=\"parameter_gamma\"\n",
    ")\n",
    "\n",
    "select_sigma = alt.selection_single(\n",
    "    fields=[\"sigma\"],\n",
    "    bind={\"sigma\": slider_sigma},\n",
    "    init={\"sigma\": .3},\n",
    "    name=\"parameter_sigma\"\n",
    ")"
   ]
  },
  {
   "cell_type": "code",
   "execution_count": 4,
   "metadata": {},
   "outputs": [],
   "source": [
    "#hide\n",
    "sir_data = {\"source\": \"https://raw.githubusercontent.com/yogabonito/test/master/_notebooks/plots/sir.json\", \"title\": \"SIR\"}\n",
    "seir_data = {\"source\": \"https://raw.githubusercontent.com/yogabonito/test/master/_notebooks/plots/seir.json\", \"title\": \"SEIR\"}\n",
    "exp_hawkesn_data = {\n",
    "    \"source\": \"https://raw.githubusercontent.com/yogabonito/test/master/_notebooks/plots/exp_hawkesn.json\",\n",
    "    \"title\": \"HawkesN process with exponential kernel\"\n",
    "}\n",
    "hypoexp_and_erlang_hawkesn_data = {\n",
    "    \"source\": \"https://raw.githubusercontent.com/yogabonito/test/master/_notebooks/plots/hypoexp_and_erlang_hawkes.json\",\n",
    "    \"title\": \"HawkesN process with hypoexponential/Erlang kernel\"\n",
    "}\n",
    "\n",
    "sim_data = [sir_data, seir_data, exp_hawkesn_data, hypoexp_and_erlang_hawkesn_data]"
   ]
  },
  {
   "cell_type": "code",
   "execution_count": 44,
   "metadata": {},
   "outputs": [],
   "source": [
    "#hide\n",
    "sir_chart, seir_chart, exp_hawkesn_chart, hypoexp_and_erlang_hawkesn_chart = (\n",
    "    alt.Chart(data[\"source\"]).mark_bar().encode(\n",
    "        alt.X(\n",
    "            \"day:Q\",\n",
    "            scale=alt.Scale(domain=(1, t_max-5))\n",
    "        ),    \n",
    "        alt.Y(\n",
    "            \"cumulative infections:Q\",\n",
    "            scale=alt.Scale(domain=(0, n))\n",
    "        ),\n",
    "        #x=\"day:Q\"\n",
    "        tooltip=[\"day:Q\", \"cumulative infections:Q\"]\n",
    "    ).properties(\n",
    "        title=data[\"title\"]\n",
    "    )\n",
    "    for data in sim_data\n",
    ")\n",
    "\n",
    "sir_chart, seir_chart, exp_hawkesn_chart, hypoexp_and_erlang_hawkesn_chart = (\n",
    "    chart.add_selection(\n",
    "        select_gamma\n",
    "    ).transform_filter(\n",
    "        select_gamma\n",
    "    ).add_selection(\n",
    "        select_beta\n",
    "    ).transform_filter(\n",
    "        select_beta\n",
    "    )\n",
    "    for chart in [sir_chart, seir_chart, exp_hawkesn_chart, hypoexp_and_erlang_hawkesn_chart]\n",
    ")\n",
    "\n",
    "seir_chart, hypoexp_and_erlang_hawkesn_chart = (\n",
    "    chart.add_selection(\n",
    "        select_sigma\n",
    "    ).transform_filter(\n",
    "        select_sigma\n",
    "    )\n",
    "    for chart in [seir_chart, hypoexp_and_erlang_hawkesn_chart]\n",
    ")"
   ]
  },
  {
   "cell_type": "code",
   "execution_count": 45,
   "metadata": {},
   "outputs": [
    {
     "data": {
      "text/html": [
       "\n",
       "<div id=\"altair-viz-91620c01abc0402faf4dd7e504bae984\"></div>\n",
       "<script type=\"text/javascript\">\n",
       "  (function(spec, embedOpt){\n",
       "    let outputDiv = document.currentScript.previousElementSibling;\n",
       "    if (outputDiv.id !== \"altair-viz-91620c01abc0402faf4dd7e504bae984\") {\n",
       "      outputDiv = document.getElementById(\"altair-viz-91620c01abc0402faf4dd7e504bae984\");\n",
       "    }\n",
       "    const paths = {\n",
       "      \"vega\": \"https://cdn.jsdelivr.net/npm//vega@5?noext\",\n",
       "      \"vega-lib\": \"https://cdn.jsdelivr.net/npm//vega-lib?noext\",\n",
       "      \"vega-lite\": \"https://cdn.jsdelivr.net/npm//vega-lite@4.8.1?noext\",\n",
       "      \"vega-embed\": \"https://cdn.jsdelivr.net/npm//vega-embed@6?noext\",\n",
       "    };\n",
       "\n",
       "    function loadScript(lib) {\n",
       "      return new Promise(function(resolve, reject) {\n",
       "        var s = document.createElement('script');\n",
       "        s.src = paths[lib];\n",
       "        s.async = true;\n",
       "        s.onload = () => resolve(paths[lib]);\n",
       "        s.onerror = () => reject(`Error loading script: ${paths[lib]}`);\n",
       "        document.getElementsByTagName(\"head\")[0].appendChild(s);\n",
       "      });\n",
       "    }\n",
       "\n",
       "    function showError(err) {\n",
       "      outputDiv.innerHTML = `<div class=\"error\" style=\"color:red;\">${err}</div>`;\n",
       "      throw err;\n",
       "    }\n",
       "\n",
       "    function displayChart(vegaEmbed) {\n",
       "      vegaEmbed(outputDiv, spec, embedOpt)\n",
       "        .catch(err => showError(`Javascript Error: ${err.message}<br>This usually means there's a typo in your chart specification. See the javascript console for the full traceback.`));\n",
       "    }\n",
       "\n",
       "    if(typeof define === \"function\" && define.amd) {\n",
       "      requirejs.config({paths});\n",
       "      require([\"vega-embed\"], displayChart, err => showError(`Error loading script: ${err.message}`));\n",
       "    } else if (typeof vegaEmbed === \"function\") {\n",
       "      displayChart(vegaEmbed);\n",
       "    } else {\n",
       "      loadScript(\"vega\")\n",
       "        .then(() => loadScript(\"vega-lite\"))\n",
       "        .then(() => loadScript(\"vega-embed\"))\n",
       "        .catch(showError)\n",
       "        .then(() => displayChart(vegaEmbed));\n",
       "    }\n",
       "  })({\"config\": {\"view\": {\"continuousWidth\": 400, \"continuousHeight\": 300}}, \"vconcat\": [{\"hconcat\": [{\"data\": {\"url\": \"https://raw.githubusercontent.com/yogabonito/test/master/_notebooks/plots/sir.json\"}, \"mark\": \"bar\", \"encoding\": {\"tooltip\": [{\"type\": \"quantitative\", \"field\": \"day\"}, {\"type\": \"quantitative\", \"field\": \"cumulative infections\"}], \"x\": {\"type\": \"quantitative\", \"field\": \"day\", \"scale\": {\"domain\": [1, 46]}}, \"y\": {\"type\": \"quantitative\", \"field\": \"cumulative infections\", \"scale\": {\"domain\": [0, 10000]}}}, \"selection\": {\"parameter_gamma\": {\"type\": \"single\", \"fields\": [\"gamma\"], \"bind\": {\"gamma\": {\"input\": \"range\", \"max\": 1, \"min\": 0.1, \"name\": \"\\u03b3 \", \"step\": 0.1}}, \"init\": {\"gamma\": 0.1}}, \"parameter_beta\": {\"type\": \"single\", \"fields\": [\"beta\"], \"bind\": {\"beta\": {\"input\": \"range\", \"max\": 1.4, \"min\": 0.4, \"name\": \"\\u03b2 \", \"step\": 0.2}}, \"init\": {\"beta\": 1}}}, \"title\": \"SIR\", \"transform\": [{\"filter\": {\"selection\": \"parameter_gamma\"}}, {\"filter\": {\"selection\": \"parameter_beta\"}}]}, {\"data\": {\"url\": \"https://raw.githubusercontent.com/yogabonito/test/master/_notebooks/plots/seir.json\"}, \"mark\": \"bar\", \"encoding\": {\"tooltip\": [{\"type\": \"quantitative\", \"field\": \"day\"}, {\"type\": \"quantitative\", \"field\": \"cumulative infections\"}], \"x\": {\"type\": \"quantitative\", \"field\": \"day\", \"scale\": {\"domain\": [1, 46]}}, \"y\": {\"type\": \"quantitative\", \"field\": \"cumulative infections\", \"scale\": {\"domain\": [0, 10000]}}}, \"selection\": {\"parameter_gamma\": {\"type\": \"single\", \"fields\": [\"gamma\"], \"bind\": {\"gamma\": {\"input\": \"range\", \"max\": 1, \"min\": 0.1, \"name\": \"\\u03b3 \", \"step\": 0.1}}, \"init\": {\"gamma\": 0.1}}, \"parameter_beta\": {\"type\": \"single\", \"fields\": [\"beta\"], \"bind\": {\"beta\": {\"input\": \"range\", \"max\": 1.4, \"min\": 0.4, \"name\": \"\\u03b2 \", \"step\": 0.2}}, \"init\": {\"beta\": 1}}, \"parameter_sigma\": {\"type\": \"single\", \"fields\": [\"sigma\"], \"bind\": {\"sigma\": {\"input\": \"range\", \"max\": 1, \"min\": 0.1, \"name\": \"\\u03c3 \", \"step\": 0.1}}, \"init\": {\"sigma\": 0.3}}}, \"title\": \"SEIR\", \"transform\": [{\"filter\": {\"selection\": \"parameter_gamma\"}}, {\"filter\": {\"selection\": \"parameter_beta\"}}, {\"filter\": {\"selection\": \"parameter_sigma\"}}]}]}, {\"hconcat\": [{\"data\": {\"url\": \"https://raw.githubusercontent.com/yogabonito/test/master/_notebooks/plots/exp_hawkesn.json\"}, \"mark\": \"bar\", \"encoding\": {\"tooltip\": [{\"type\": \"quantitative\", \"field\": \"day\"}, {\"type\": \"quantitative\", \"field\": \"cumulative infections\"}], \"x\": {\"type\": \"quantitative\", \"field\": \"day\", \"scale\": {\"domain\": [1, 46]}}, \"y\": {\"type\": \"quantitative\", \"field\": \"cumulative infections\", \"scale\": {\"domain\": [0, 10000]}}}, \"selection\": {\"parameter_gamma\": {\"type\": \"single\", \"fields\": [\"gamma\"], \"bind\": {\"gamma\": {\"input\": \"range\", \"max\": 1, \"min\": 0.1, \"name\": \"\\u03b3 \", \"step\": 0.1}}, \"init\": {\"gamma\": 0.1}}, \"parameter_beta\": {\"type\": \"single\", \"fields\": [\"beta\"], \"bind\": {\"beta\": {\"input\": \"range\", \"max\": 1.4, \"min\": 0.4, \"name\": \"\\u03b2 \", \"step\": 0.2}}, \"init\": {\"beta\": 1}}}, \"title\": \"HawkesN process with exponential kernel\", \"transform\": [{\"filter\": {\"selection\": \"parameter_gamma\"}}, {\"filter\": {\"selection\": \"parameter_beta\"}}]}, {\"data\": {\"url\": \"https://raw.githubusercontent.com/yogabonito/test/master/_notebooks/plots/hypoexp_and_erlang_hawkes.json\"}, \"mark\": \"bar\", \"encoding\": {\"tooltip\": [{\"type\": \"quantitative\", \"field\": \"day\"}, {\"type\": \"quantitative\", \"field\": \"cumulative infections\"}], \"x\": {\"type\": \"quantitative\", \"field\": \"day\", \"scale\": {\"domain\": [1, 46]}}, \"y\": {\"type\": \"quantitative\", \"field\": \"cumulative infections\", \"scale\": {\"domain\": [0, 10000]}}}, \"selection\": {\"parameter_gamma\": {\"type\": \"single\", \"fields\": [\"gamma\"], \"bind\": {\"gamma\": {\"input\": \"range\", \"max\": 1, \"min\": 0.1, \"name\": \"\\u03b3 \", \"step\": 0.1}}, \"init\": {\"gamma\": 0.1}}, \"parameter_beta\": {\"type\": \"single\", \"fields\": [\"beta\"], \"bind\": {\"beta\": {\"input\": \"range\", \"max\": 1.4, \"min\": 0.4, \"name\": \"\\u03b2 \", \"step\": 0.2}}, \"init\": {\"beta\": 1}}, \"parameter_sigma\": {\"type\": \"single\", \"fields\": [\"sigma\"], \"bind\": {\"sigma\": {\"input\": \"range\", \"max\": 1, \"min\": 0.1, \"name\": \"\\u03c3 \", \"step\": 0.1}}, \"init\": {\"sigma\": 0.3}}}, \"title\": \"HawkesN process with hypoexponential/Erlang kernel\", \"transform\": [{\"filter\": {\"selection\": \"parameter_gamma\"}}, {\"filter\": {\"selection\": \"parameter_beta\"}}, {\"filter\": {\"selection\": \"parameter_sigma\"}}]}]}], \"$schema\": \"https://vega.github.io/schema/vega-lite/v4.8.1.json\"}, {\"mode\": \"vega-lite\"});\n",
       "</script>"
      ],
      "text/plain": [
       "alt.VConcatChart(...)"
      ]
     },
     "execution_count": 45,
     "metadata": {},
     "output_type": "execute_result"
    }
   ],
   "source": [
    "#hide_input\n",
    "(sir_chart | seir_chart) & (exp_hawkesn_chart | hypoexp_and_erlang_hawkesn_chart)"
   ]
  },
  {
   "cell_type": "markdown",
   "metadata": {},
   "source": [
    "## Introduction"
   ]
  },
  {
   "cell_type": "markdown",
   "metadata": {},
   "source": [
    "Since their introduction in the 1970s, Hawkes processes have been successfully applied in many different fields, such as seismology, finance, and information science. Alan G. Hawkes also considered his class of stochastic processes \"a possible epidemic model in large populations\"{% fn 1 %}."
   ]
  },
  {
   "cell_type": "markdown",
   "metadata": {},
   "source": [
    "However, a model assuming an infinitely large population is often not suitable when modeling the spread of diseases. That's why many researchers preferred compartmental epidemic models (like the SIR or SEIR model) to Hawkes processes."
   ]
  },
  {
   "cell_type": "markdown",
   "metadata": {},
   "source": [
    "Only recently, it has been shown that there is a link between Hawkes-like processes and the SIR compartmental model.{% fn 2 %} As Rizoiu et al. put it, \"[t]his is significant, as it\n",
    "indicates that tools developed for one approach can be applied to the other.\" However, this link is restricted to the SIR compartmental model. As this model lacks the capability to model incubation time, many researchers turn to more complex models such as the SEIR model and variants thereof. This is especially true for diffusion analyses in the current Covid-19 crisis."
   ]
  },
  {
   "cell_type": "markdown",
   "metadata": {},
   "source": [
    "We have discovered a link between the SEIR model and Hawkes-like processes. In this blog post, we explain it and give a brief overview of all the models mentioned so far. For a more detailed derivation of the results and a more in-depth discussion please refer to our <a href=\"https://todo\">paper</a>."
   ]
  },
  {
   "cell_type": "markdown",
   "metadata": {},
   "source": [
    "But before we dive into the details, let's get a feel of the models we will talk about. The plot at the beginning of this blog post shows four subplots, each containing the total number of infections (y-axis) that occured until a certain day (x-axis) in a population of 10 thousand people using one specific simulation model. When you hover over the bars, you will notice that many infection counts are not integers; that's because they are calculated as the mean of many simulations. Fiddle around with the sliders below the plot and see how they affect the spread of a disease. Comparing the subplots, we notice three things:"
   ]
  },
  {
   "cell_type": "markdown",
   "metadata": {},
   "source": [
    "> Note: The two subplots on the left look similar. This is a consequence of the finding of Rizoiu et al. that we mentioned above: There is a link between the SIR model and Hawkes-like processes."
   ]
  },
  {
   "cell_type": "markdown",
   "metadata": {},
   "source": [
    "> Note: The two subplots on the right look similar. This is a consequence of our finding: There is a link between the SEIR model and Hawkes-like processes."
   ]
  },
  {
   "cell_type": "markdown",
   "metadata": {},
   "source": [
    "> Important: The subplots on the left and on the right are **very** different! Also note, that you can adjust the latency in the models plotted on the right (higher values for $\\sigma$ implying less latency). The models on the left, however, are not capable of modeling latency (and thus incubation time). This underlines the importance of extending the link found by Rizoiu et al. to other compartmental models."
   ]
  },
  {
   "cell_type": "markdown",
   "metadata": {},
   "source": [
    "## Hawkes Processes"
   ]
  },
  {
   "cell_type": "markdown",
   "metadata": {},
   "source": [
    "A Hawkes process is a type of counting process. A counting process counts events. These events can for example be infections (in epidemiology) or earthquakes (in seismology). Whenever an event occurs, the counting process experiences a jump of size $1$. Let's have a look at a sample path of a Hawkes process $N_t$ in the following figure (the blue line)."
   ]
  },
  {
   "cell_type": "markdown",
   "metadata": {},
   "source": [
    "![Hawkes process - sample path and corresponding conditional intensity](./fig/hawkes_sample_path_with_conditional_intensity.svg)"
   ]
  },
  {
   "cell_type": "markdown",
   "metadata": {},
   "source": [
    "You will notice that its jumps are not evenly distributed over the observed time interval $[0, 60]$. Why's that?"
   ]
  },
  {
   "cell_type": "markdown",
   "metadata": {},
   "source": [
    "It's because the behavior of $N_t$ is dictated by its so-called conditional intensity $\\lambda_t$ (the orange line). Whenever $\\lambda_t$ is high we have a high probability of events. A low $\\lambda_t$, on the other hand, leads to fewer jumps in $N_t$. This property is valid for all counting processes."
   ]
  },
  {
   "cell_type": "markdown",
   "metadata": {},
   "source": [
    "What makes Hawkes processes so special is that their conditional intensity $\\lambda_t$ again depends on the counting process. In the figure above we see that the jumps in $N_t$ also increase the conditional intensity."
   ]
  },
  {
   "cell_type": "markdown",
   "metadata": {},
   "source": [
    "In general, the conditional intensity of a Hawkes process has the form\n",
    "\\begin{align}\n",
    "\\lambda_t\n",
    "= \\mu(t) + \\sum\\limits_{t_j < t} \\nu(t-t_j)\n",
    ",\n",
    "\\end{align}\n",
    "where $t_j$ is an event time and $\\mu(t)$ as well as $\\nu(t-t_j)$ are both $\\geq 0$.{% fn 3 %}\n",
    "The function $\\mu$ is called the background intensity. It is independent of $N_t$. The function $\\nu$, however, depends on the history of the counting process $N_t$. We call $\\nu$ the kernel of the Hawkes process."
   ]
  },
  {
   "cell_type": "markdown",
   "metadata": {},
   "source": [
    "In the figure above, $\\mu(t)$ was independent of $t$ (hence we simply write $\\mu$) and $\\nu$ was an exponential kernel; this means\n",
    "\\begin{align}\n",
    "\\lambda_t\n",
    "= \\mu\n",
    "+\n",
    "\\sum\\limits_{t_j < t} \\kappa \\theta \\text{e}^{-\\theta (t - t_j)}.\n",
    "\\end{align}"
   ]
  },
  {
   "cell_type": "markdown",
   "metadata": {},
   "source": [
    "Note that the exponential kernel leads to immediate jumps in $\\lambda_t$ when an event occurs. When modeling infections, this means that an infection immediately increases the probability of further infections. This also means, that there is no way of taking incubation time into account. We will adress this issue below. But first, let's head to the other class of models we discuss in this post."
   ]
  },
  {
   "cell_type": "markdown",
   "metadata": {},
   "source": [
    "## Compartmental Epidemic Models"
   ]
  },
  {
   "cell_type": "markdown",
   "metadata": {},
   "source": [
    " "
   ]
  },
  {
   "cell_type": "markdown",
   "metadata": {},
   "source": [
    "### The SIR Model"
   ]
  },
  {
   "cell_type": "markdown",
   "metadata": {},
   "source": [
    "![SIR model](./fig/flowcharts/sir.svg)"
   ]
  },
  {
   "cell_type": "markdown",
   "metadata": {},
   "source": [
    "### The SEIR Model"
   ]
  },
  {
   "cell_type": "markdown",
   "metadata": {},
   "source": [
    "![SEIR model](./fig/flowcharts/seir.svg)"
   ]
  },
  {
   "cell_type": "markdown",
   "metadata": {},
   "source": [
    "$\\newcommand{\\testnewcommand}{\\text{newcommand works :)}}$"
   ]
  },
  {
   "cell_type": "markdown",
   "metadata": {},
   "source": [
    "## The Link between the SIR & SEIR Model and the Hawkes Processes"
   ]
  },
  {
   "cell_type": "markdown",
   "metadata": {},
   "source": [
    "### The SIR Model and the HawkesN Process with an Exponential Kernel"
   ]
  },
  {
   "cell_type": "code",
   "execution_count": null,
   "metadata": {},
   "outputs": [],
   "source": []
  },
  {
   "cell_type": "markdown",
   "metadata": {},
   "source": [
    "### The SEIR Model and the HawkesN Process with a Hypoexponential or Erlang Kernel"
   ]
  },
  {
   "cell_type": "code",
   "execution_count": null,
   "metadata": {},
   "outputs": [],
   "source": []
  },
  {
   "cell_type": "code",
   "execution_count": null,
   "metadata": {},
   "outputs": [],
   "source": []
  },
  {
   "cell_type": "markdown",
   "metadata": {},
   "source": [
    "$\\testnewcommand$"
   ]
  },
  {
   "cell_type": "markdown",
   "metadata": {},
   "source": [
    "\\newcommand{\\testnewcommandinrawcell}{\\text{newcommand works in raw cell :)}}"
   ]
  },
  {
   "cell_type": "markdown",
   "metadata": {},
   "source": [
    "$\\testnewcommandinrawcell$"
   ]
  },
  {
   "cell_type": "markdown",
   "metadata": {},
   "source": [
    "## References"
   ]
  },
  {
   "cell_type": "markdown",
   "metadata": {},
   "source": [
    "{{ 'Hawkes (1971): \"Spectra of some self-exciting and mutually exciting point processes\"' | fndetail: 1 }}\n",
    "\n",
    "{{ 'Rizoiu et al. (2018): \"SIR-Hawkes: Linking Epidemic Models and Hawkes Processes to Model Diffusions in Finite Populations\"' | fndetail: 2 }}\n",
    "\n",
    "{{ 'https://mathworld.wolfram.com/HawkesProcess.html' | fndetail: 3 }}"
   ]
  }
 ],
 "metadata": {
  "kernelspec": {
   "display_name": "Python 3",
   "language": "python",
   "name": "python3"
  },
  "language_info": {
   "codemirror_mode": {
    "name": "ipython",
    "version": 3
   },
   "file_extension": ".py",
   "mimetype": "text/x-python",
   "name": "python",
   "nbconvert_exporter": "python",
   "pygments_lexer": "ipython3",
   "version": "3.7.6"
  }
 },
 "nbformat": 4,
 "nbformat_minor": 4
}
