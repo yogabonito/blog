{
 "cells": [
  {
   "cell_type": "markdown",
   "metadata": {},
   "source": [
    "# The Relation between the SEIR Epidemic Model and Hawkes Processes\n",
    "> Recently, a link between the SIR compartmental epidemic model and Hawkes-like processes was found. This opens up the possibility to use some of the rich theory related to Hawkes processes when analyzing spreads of diseases using the SIR model. As the SIR model is not capable of modeling incubation times – a feature inherent in Covid-19 and many other diseases – there is a need to extend the recently found link to more complex compartmental epidemic models like the SEIR model. We have discovered this link and present it briefly in this blog post. For a detailed derivation of our results and a more in-depth discussion please refer to <a href=\"https://todo\">our paper</a>.\n",
    "- toc: false\n",
    "- branch: master\n",
    "- badges: true\n",
    "- comments: true\n",
    "- categories: [epidemic models]\n",
    "- hide: false\n",
    "- search_exclude: true"
   ]
  },
  {
   "cell_type": "code",
   "execution_count": 1,
   "metadata": {},
   "outputs": [],
   "source": [
    "#hide\n",
    "import altair as alt"
   ]
  },
  {
   "cell_type": "code",
   "execution_count": 2,
   "metadata": {},
   "outputs": [],
   "source": [
    "#hide\n",
    "from sim_params import *"
   ]
  },
  {
   "cell_type": "code",
   "execution_count": 3,
   "metadata": {},
   "outputs": [],
   "source": [
    "#hide\n",
    "slider_beta = alt.binding_range(min=beta_min, max=beta_max, step=beta_step, name=\"\\u03b2 \")\n",
    "slider_sigma = alt.binding_range(min=gamma_min, max=gamma_max, step=gamma_step, name=\"\\u03c3 \")\n",
    "slider_gamma = alt.binding_range(min=gamma_min, max=gamma_max, step=gamma_step, name=\"\\u03b3 \")\n",
    "\n",
    "select_beta = alt.selection_single(\n",
    "    fields=[\"beta\"],\n",
    "    bind={\"beta\": slider_beta},\n",
    "    init={\"beta\": 1},\n",
    "    name=\"parameter_beta\"\n",
    ")\n",
    "\n",
    "select_gamma = alt.selection_single(\n",
    "    fields=[\"gamma\"],\n",
    "    bind={\"gamma\": slider_gamma},\n",
    "    init={\"gamma\": .1},\n",
    "    name=\"parameter_gamma\"\n",
    ")\n",
    "\n",
    "select_sigma = alt.selection_single(\n",
    "    fields=[\"sigma\"],\n",
    "    bind={\"sigma\": slider_sigma},\n",
    "    init={\"sigma\": .3},\n",
    "    name=\"parameter_sigma\"\n",
    ")"
   ]
  },
  {
   "cell_type": "code",
   "execution_count": 4,
   "metadata": {},
   "outputs": [],
   "source": [
    "#hide\n",
    "sir_data = {\"source\": \"https://raw.githubusercontent.com/yogabonito/test/master/_notebooks/plots/sir.json\", \"title\": \"SIR\"}\n",
    "seir_data = {\"source\": \"https://raw.githubusercontent.com/yogabonito/test/master/_notebooks/plots/seir.json\", \"title\": \"SEIR\"}\n",
    "exp_hawkesn_data = {\n",
    "    \"source\": \"https://raw.githubusercontent.com/yogabonito/test/master/_notebooks/plots/exp_hawkesn.json\",\n",
    "    \"title\": \"HawkesN process with exponential kernel\"\n",
    "}\n",
    "hypoexp_and_erlang_hawkesn_data = {\n",
    "    \"source\": \"https://raw.githubusercontent.com/yogabonito/test/master/_notebooks/plots/hypoexp_and_erlang_hawkes.json\",\n",
    "    \"title\": \"HawkesN process with hypoexponential/Erlang kernel\"\n",
    "}\n",
    "\n",
    "sim_data = [sir_data, seir_data, exp_hawkesn_data, hypoexp_and_erlang_hawkesn_data]"
   ]
  },
  {
   "cell_type": "code",
   "execution_count": 44,
   "metadata": {},
   "outputs": [],
   "source": [
    "#hide\n",
    "sir_chart, seir_chart, exp_hawkesn_chart, hypoexp_and_erlang_hawkesn_chart = (\n",
    "    alt.Chart(data[\"source\"]).mark_bar().encode(\n",
    "        alt.X(\n",
    "            \"day:Q\",\n",
    "            scale=alt.Scale(domain=(1, t_max-5))\n",
    "        ),    \n",
    "        alt.Y(\n",
    "            \"cumulative infections:Q\",\n",
    "            scale=alt.Scale(domain=(0, n))\n",
    "        ),\n",
    "        #x=\"day:Q\"\n",
    "        tooltip=[\"day:Q\", \"cumulative infections:Q\"]\n",
    "    ).properties(\n",
    "        title=data[\"title\"]\n",
    "    )\n",
    "    for data in sim_data\n",
    ")\n",
    "\n",
    "sir_chart, seir_chart, exp_hawkesn_chart, hypoexp_and_erlang_hawkesn_chart = (\n",
    "    chart.add_selection(\n",
    "        select_gamma\n",
    "    ).transform_filter(\n",
    "        select_gamma\n",
    "    ).add_selection(\n",
    "        select_beta\n",
    "    ).transform_filter(\n",
    "        select_beta\n",
    "    )\n",
    "    for chart in [sir_chart, seir_chart, exp_hawkesn_chart, hypoexp_and_erlang_hawkesn_chart]\n",
    ")\n",
    "\n",
    "seir_chart, hypoexp_and_erlang_hawkesn_chart = (\n",
    "    chart.add_selection(\n",
    "        select_sigma\n",
    "    ).transform_filter(\n",
    "        select_sigma\n",
    "    )\n",
    "    for chart in [seir_chart, hypoexp_and_erlang_hawkesn_chart]\n",
    ")"
   ]
  },
  {
   "cell_type": "code",
   "execution_count": 45,
   "metadata": {},
   "outputs": [
    {
     "data": {
      "text/html": [
       "\n",
       "<div id=\"altair-viz-91620c01abc0402faf4dd7e504bae984\"></div>\n",
       "<script type=\"text/javascript\">\n",
       "  (function(spec, embedOpt){\n",
       "    let outputDiv = document.currentScript.previousElementSibling;\n",
       "    if (outputDiv.id !== \"altair-viz-91620c01abc0402faf4dd7e504bae984\") {\n",
       "      outputDiv = document.getElementById(\"altair-viz-91620c01abc0402faf4dd7e504bae984\");\n",
       "    }\n",
       "    const paths = {\n",
       "      \"vega\": \"https://cdn.jsdelivr.net/npm//vega@5?noext\",\n",
       "      \"vega-lib\": \"https://cdn.jsdelivr.net/npm//vega-lib?noext\",\n",
       "      \"vega-lite\": \"https://cdn.jsdelivr.net/npm//vega-lite@4.8.1?noext\",\n",
       "      \"vega-embed\": \"https://cdn.jsdelivr.net/npm//vega-embed@6?noext\",\n",
       "    };\n",
       "\n",
       "    function loadScript(lib) {\n",
       "      return new Promise(function(resolve, reject) {\n",
       "        var s = document.createElement('script');\n",
       "        s.src = paths[lib];\n",
       "        s.async = true;\n",
       "        s.onload = () => resolve(paths[lib]);\n",
       "        s.onerror = () => reject(`Error loading script: ${paths[lib]}`);\n",
       "        document.getElementsByTagName(\"head\")[0].appendChild(s);\n",
       "      });\n",
       "    }\n",
       "\n",
       "    function showError(err) {\n",
       "      outputDiv.innerHTML = `<div class=\"error\" style=\"color:red;\">${err}</div>`;\n",
       "      throw err;\n",
       "    }\n",
       "\n",
       "    function displayChart(vegaEmbed) {\n",
       "      vegaEmbed(outputDiv, spec, embedOpt)\n",
       "        .catch(err => showError(`Javascript Error: ${err.message}<br>This usually means there's a typo in your chart specification. See the javascript console for the full traceback.`));\n",
       "    }\n",
       "\n",
       "    if(typeof define === \"function\" && define.amd) {\n",
       "      requirejs.config({paths});\n",
       "      require([\"vega-embed\"], displayChart, err => showError(`Error loading script: ${err.message}`));\n",
       "    } else if (typeof vegaEmbed === \"function\") {\n",
       "      displayChart(vegaEmbed);\n",
       "    } else {\n",
       "      loadScript(\"vega\")\n",
       "        .then(() => loadScript(\"vega-lite\"))\n",
       "        .then(() => loadScript(\"vega-embed\"))\n",
       "        .catch(showError)\n",
       "        .then(() => displayChart(vegaEmbed));\n",
       "    }\n",
       "  })({\"config\": {\"view\": {\"continuousWidth\": 400, \"continuousHeight\": 300}}, \"vconcat\": [{\"hconcat\": [{\"data\": {\"url\": \"https://raw.githubusercontent.com/yogabonito/test/master/_notebooks/plots/sir.json\"}, \"mark\": \"bar\", \"encoding\": {\"tooltip\": [{\"type\": \"quantitative\", \"field\": \"day\"}, {\"type\": \"quantitative\", \"field\": \"cumulative infections\"}], \"x\": {\"type\": \"quantitative\", \"field\": \"day\", \"scale\": {\"domain\": [1, 46]}}, \"y\": {\"type\": \"quantitative\", \"field\": \"cumulative infections\", \"scale\": {\"domain\": [0, 10000]}}}, \"selection\": {\"parameter_gamma\": {\"type\": \"single\", \"fields\": [\"gamma\"], \"bind\": {\"gamma\": {\"input\": \"range\", \"max\": 1, \"min\": 0.1, \"name\": \"\\u03b3 \", \"step\": 0.1}}, \"init\": {\"gamma\": 0.1}}, \"parameter_beta\": {\"type\": \"single\", \"fields\": [\"beta\"], \"bind\": {\"beta\": {\"input\": \"range\", \"max\": 1.4, \"min\": 0.4, \"name\": \"\\u03b2 \", \"step\": 0.2}}, \"init\": {\"beta\": 1}}}, \"title\": \"SIR\", \"transform\": [{\"filter\": {\"selection\": \"parameter_gamma\"}}, {\"filter\": {\"selection\": \"parameter_beta\"}}]}, {\"data\": {\"url\": \"https://raw.githubusercontent.com/yogabonito/test/master/_notebooks/plots/seir.json\"}, \"mark\": \"bar\", \"encoding\": {\"tooltip\": [{\"type\": \"quantitative\", \"field\": \"day\"}, {\"type\": \"quantitative\", \"field\": \"cumulative infections\"}], \"x\": {\"type\": \"quantitative\", \"field\": \"day\", \"scale\": {\"domain\": [1, 46]}}, \"y\": {\"type\": \"quantitative\", \"field\": \"cumulative infections\", \"scale\": {\"domain\": [0, 10000]}}}, \"selection\": {\"parameter_gamma\": {\"type\": \"single\", \"fields\": [\"gamma\"], \"bind\": {\"gamma\": {\"input\": \"range\", \"max\": 1, \"min\": 0.1, \"name\": \"\\u03b3 \", \"step\": 0.1}}, \"init\": {\"gamma\": 0.1}}, \"parameter_beta\": {\"type\": \"single\", \"fields\": [\"beta\"], \"bind\": {\"beta\": {\"input\": \"range\", \"max\": 1.4, \"min\": 0.4, \"name\": \"\\u03b2 \", \"step\": 0.2}}, \"init\": {\"beta\": 1}}, \"parameter_sigma\": {\"type\": \"single\", \"fields\": [\"sigma\"], \"bind\": {\"sigma\": {\"input\": \"range\", \"max\": 1, \"min\": 0.1, \"name\": \"\\u03c3 \", \"step\": 0.1}}, \"init\": {\"sigma\": 0.3}}}, \"title\": \"SEIR\", \"transform\": [{\"filter\": {\"selection\": \"parameter_gamma\"}}, {\"filter\": {\"selection\": \"parameter_beta\"}}, {\"filter\": {\"selection\": \"parameter_sigma\"}}]}]}, {\"hconcat\": [{\"data\": {\"url\": \"https://raw.githubusercontent.com/yogabonito/test/master/_notebooks/plots/exp_hawkesn.json\"}, \"mark\": \"bar\", \"encoding\": {\"tooltip\": [{\"type\": \"quantitative\", \"field\": \"day\"}, {\"type\": \"quantitative\", \"field\": \"cumulative infections\"}], \"x\": {\"type\": \"quantitative\", \"field\": \"day\", \"scale\": {\"domain\": [1, 46]}}, \"y\": {\"type\": \"quantitative\", \"field\": \"cumulative infections\", \"scale\": {\"domain\": [0, 10000]}}}, \"selection\": {\"parameter_gamma\": {\"type\": \"single\", \"fields\": [\"gamma\"], \"bind\": {\"gamma\": {\"input\": \"range\", \"max\": 1, \"min\": 0.1, \"name\": \"\\u03b3 \", \"step\": 0.1}}, \"init\": {\"gamma\": 0.1}}, \"parameter_beta\": {\"type\": \"single\", \"fields\": [\"beta\"], \"bind\": {\"beta\": {\"input\": \"range\", \"max\": 1.4, \"min\": 0.4, \"name\": \"\\u03b2 \", \"step\": 0.2}}, \"init\": {\"beta\": 1}}}, \"title\": \"HawkesN process with exponential kernel\", \"transform\": [{\"filter\": {\"selection\": \"parameter_gamma\"}}, {\"filter\": {\"selection\": \"parameter_beta\"}}]}, {\"data\": {\"url\": \"https://raw.githubusercontent.com/yogabonito/test/master/_notebooks/plots/hypoexp_and_erlang_hawkes.json\"}, \"mark\": \"bar\", \"encoding\": {\"tooltip\": [{\"type\": \"quantitative\", \"field\": \"day\"}, {\"type\": \"quantitative\", \"field\": \"cumulative infections\"}], \"x\": {\"type\": \"quantitative\", \"field\": \"day\", \"scale\": {\"domain\": [1, 46]}}, \"y\": {\"type\": \"quantitative\", \"field\": \"cumulative infections\", \"scale\": {\"domain\": [0, 10000]}}}, \"selection\": {\"parameter_gamma\": {\"type\": \"single\", \"fields\": [\"gamma\"], \"bind\": {\"gamma\": {\"input\": \"range\", \"max\": 1, \"min\": 0.1, \"name\": \"\\u03b3 \", \"step\": 0.1}}, \"init\": {\"gamma\": 0.1}}, \"parameter_beta\": {\"type\": \"single\", \"fields\": [\"beta\"], \"bind\": {\"beta\": {\"input\": \"range\", \"max\": 1.4, \"min\": 0.4, \"name\": \"\\u03b2 \", \"step\": 0.2}}, \"init\": {\"beta\": 1}}, \"parameter_sigma\": {\"type\": \"single\", \"fields\": [\"sigma\"], \"bind\": {\"sigma\": {\"input\": \"range\", \"max\": 1, \"min\": 0.1, \"name\": \"\\u03c3 \", \"step\": 0.1}}, \"init\": {\"sigma\": 0.3}}}, \"title\": \"HawkesN process with hypoexponential/Erlang kernel\", \"transform\": [{\"filter\": {\"selection\": \"parameter_gamma\"}}, {\"filter\": {\"selection\": \"parameter_beta\"}}, {\"filter\": {\"selection\": \"parameter_sigma\"}}]}]}], \"$schema\": \"https://vega.github.io/schema/vega-lite/v4.8.1.json\"}, {\"mode\": \"vega-lite\"});\n",
       "</script>"
      ],
      "text/plain": [
       "alt.VConcatChart(...)"
      ]
     },
     "execution_count": 45,
     "metadata": {},
     "output_type": "execute_result"
    }
   ],
   "source": [
    "#hide_input\n",
    "(sir_chart | seir_chart) & (exp_hawkesn_chart | hypoexp_and_erlang_hawkesn_chart)"
   ]
  },
  {
   "cell_type": "markdown",
   "metadata": {},
   "source": [
    "## Introduction"
   ]
  },
  {
   "cell_type": "markdown",
   "metadata": {},
   "source": [
    "Since their introduction in the 1970s, Hawkes processes have been successfully applied in many different fields, such as seismology, finance, and information science. Alan G. Hawkes also considered his class of stochastic processes \"a possible epidemic model in large populations\"{% fn 1 %}."
   ]
  },
  {
   "cell_type": "markdown",
   "metadata": {},
   "source": [
    "However, a model assuming an infinitely large population is often not suitable when modeling the spread of diseases. That's why many researchers preferred compartmental epidemic models (like the SIR or SEIR model) to Hawkes processes."
   ]
  },
  {
   "cell_type": "markdown",
   "metadata": {},
   "source": [
    "Only recently, it has been shown that there is a link between Hawkes-like processes and the SIR compartmental model.{% fn 2 %} As Rizoiu et al. put it, \"[t]his is significant, as it\n",
    "indicates that tools developed for one approach can be applied to the other.\" However, this link is restricted to the SIR compartmental model. As this model lacks the capability to model incubation time, many researchers turn to more complex models such as the SEIR model and variants thereof. This is especially true for diffusion analyses in the current Covid-19 crisis."
   ]
  },
  {
   "cell_type": "markdown",
   "metadata": {},
   "source": [
    "We have discovered a link between the SEIR model and Hawkes-like processes.{% fn 3 %} In this blog post, we explain it briefly and give an overview of all the models mentioned so far."
   ]
  },
  {
   "cell_type": "markdown",
   "metadata": {},
   "source": [
    "But before we dive into the theory, let's get a feel of the models we will talk about. The plot at the beginning of this blog post shows four subplots, each containing the total number of infections (y-axis) that occured until a certain day (x-axis) in a population of 10 thousand people using one specific simulation model. When you hover over the bars, you will notice that many infection counts are not integers; that's because they are calculated as the mean of many simulations. Fiddle around with the sliders below the plot and see how they affect the spread of a disease. Comparing the subplots, we notice three things:"
   ]
  },
  {
   "cell_type": "markdown",
   "metadata": {},
   "source": [
    "> Note: The two subplots on the left look similar. This is a consequence of the finding of Rizoiu et al. that we mentioned above: There is a link between the SIR model and Hawkes-like processes."
   ]
  },
  {
   "cell_type": "markdown",
   "metadata": {},
   "source": [
    "> Note: The two subplots on the right look similar. This is a consequence of our finding: There is a link between the SEIR model and Hawkes-like processes."
   ]
  },
  {
   "cell_type": "markdown",
   "metadata": {},
   "source": [
    "> Important: The subplots on the left and on the right are **very** different! Also note, that you can adjust the latency in the models plotted on the right (higher values for $\\sigma$ implying less latency). The models on the left, however, are not capable of modeling latency (and thus incubation time). This underlines the importance of extending the link found by Rizoiu et al. to other compartmental models."
   ]
  },
  {
   "cell_type": "markdown",
   "metadata": {},
   "source": [
    "## Hawkes Processes"
   ]
  },
  {
   "cell_type": "markdown",
   "metadata": {},
   "source": [
    "A Hawkes process is a type of counting process. A counting process counts events. These events can for example be infections (in epidemiology) or earthquakes (in seismology). Whenever an event occurs, the counting process experiences a jump of size $1$. Let's have a look at a sample path of a Hawkes process $N_t$ in the following figure (the blue line)."
   ]
  },
  {
   "cell_type": "markdown",
   "metadata": {},
   "source": [
    "![Hawkes process - sample path and corresponding conditional intensity](./fig/hawkes_sample_path_with_conditional_intensity.svg)"
   ]
  },
  {
   "cell_type": "markdown",
   "metadata": {},
   "source": [
    "You will notice that its jumps are not evenly distributed over the observed time interval $[0, 60]$. Why's that?"
   ]
  },
  {
   "cell_type": "markdown",
   "metadata": {},
   "source": [
    "It's because the behavior of $N_t$ is dictated by its so-called conditional intensity $\\lambda_t$ (the orange line). Whenever $\\lambda_t$ is high we have a high probability of events. A low $\\lambda_t$, on the other hand, leads to fewer jumps in $N_t$. This property is valid for all counting processes."
   ]
  },
  {
   "cell_type": "markdown",
   "metadata": {},
   "source": [
    "What makes Hawkes processes so special is that their conditional intensity $\\lambda_t$ again depends on the counting process. In the figure above we see that the jumps in $N_t$ also increase the conditional intensity."
   ]
  },
  {
   "cell_type": "markdown",
   "metadata": {},
   "source": [
    "In general, the conditional intensity of a Hawkes process has the form\n",
    "\\begin{align}\n",
    "\\lambda_t\n",
    "= \\mu(t) + \\sum\\limits_{t_j < t} \\nu(t-t_j)\n",
    ",\n",
    "\\end{align}\n",
    "where $t_j$ is an event time and $\\mu(t)$ as well as $\\nu(t-t_j)$ are both $\\geq 0$.{% fn 4 %}\n",
    "We call $\\mu(t)$ the *background intensity*. It is independent of $N_t$.\n",
    "\n",
    "$\\nu(t - t_j)$, on the other hand, depends on $t_j$ and thus on the history of the counting process $N_t$. We call $\\nu$ the *kernel* of the Hawkes process."
   ]
  },
  {
   "cell_type": "markdown",
   "metadata": {},
   "source": [
    "In the figure above, $\\mu(t) = \\mu$ was constant and $\\nu$ was an exponential kernel, this means\n",
    "\\begin{align}\n",
    "\\lambda_t\n",
    "= \\mu\n",
    "+\n",
    "\\sum\\limits_{t_j < t} \\kappa \\theta \\text{e}^{-\\theta (t - t_j)}.\n",
    "\\end{align}"
   ]
  },
  {
   "cell_type": "markdown",
   "metadata": {},
   "source": [
    "Here, $\\kappa$ is called the *scale* parameter and $\\theta$ is called the *decay* parameter. You may notice that this kernel equals the density of the exponential distribution with parameter $\\theta$ scaled by the parameter $\\kappa$.\n",
    "\n",
    "What is important is that the exponential kernel leads to immediate jumps in $\\lambda_t$ when an event occurs. When modeling infections, this means that an infection immediately increases the probability of further infections. This also means, that there is no way of taking incubation time into account. We will adress this issue below. But first, let's head to the other class of models we discuss in this post."
   ]
  },
  {
   "cell_type": "markdown",
   "metadata": {},
   "source": [
    "## Compartmental Epidemic Models"
   ]
  },
  {
   "cell_type": "markdown",
   "metadata": {},
   "source": [
    "## The SIR Model"
   ]
  },
  {
   "cell_type": "markdown",
   "metadata": {},
   "source": [
    "### Overview"
   ]
  },
  {
   "cell_type": "markdown",
   "metadata": {},
   "source": [
    "Compartmental epidemic models (such as SIR and SEIR) model the spread of a disease within some population of size $N$ by dividing this population into groups (so-called compartments). In the SIR model these groups are called\n",
    " - S (group of all *susceptibles*),\n",
    " - I (group of all *infected*), and\n",
    " - R (group of all *recovered*).\n",
    "\n",
    "Susceptibles are healthy. After becoming infected, they move to compartment I. After some time infected people recover from a disease and hence move to compartment R. The possible transitions between compartments are outlined in the following figure."
   ]
  },
  {
   "cell_type": "markdown",
   "metadata": {},
   "source": [
    "![SIR model](./fig/flowcharts/sir.svg)"
   ]
  },
  {
   "cell_type": "markdown",
   "metadata": {},
   "source": [
    "The exact laws that govern the rates at wich people transition from one compartment to the next can be expressed in various ways. In the so-called CTMC-SIR model this is achieved via stochastic differential equations. For brevity (and as they are not our main focus), we will not present them here."
   ]
  },
  {
   "cell_type": "markdown",
   "metadata": {},
   "source": [
    "Let $S_t$ be the number of people in compartment S at time $t$. We define $I_t$ and $R_t$ analogously. Now $S_t$, $I_t$, and $R_t$ are stochastic processes. Now we can establish a link between the SIR model and Hawkes processes by finding similarities in conditional intensities."
   ]
  },
  {
   "cell_type": "markdown",
   "metadata": {},
   "source": [
    "### The link to Hawkes processes"
   ]
  },
  {
   "cell_type": "markdown",
   "metadata": {},
   "source": [
    "How does a conditional intensity look like in the SIR model? This depends on which process in this model we are considering. As we are interested in infections we might be tempted to choose the process $I_t$. However, $I_t$ is not a counting process, so we can't compute a conditional intensity. (A counting process counts and thus, it is monotonically increasing, but $I_t$ decreases when people transition from I to R.)"
   ]
  },
  {
   "cell_type": "markdown",
   "metadata": {},
   "source": [
    "We can solve this issue by choosing the process $I_t + R_t$. This represents a counting process, which counts all infections that have occurred until time $t$. Now it is possible to derive the conditional intensity $\\lambda_t^{SIR}$ from the stochastic differential equations of the SIR model."
   ]
  },
  {
   "cell_type": "markdown",
   "metadata": {},
   "source": [
    "Unfortunately, the result is not directly comparable to the conditional intensity of a Hawkes process. This is because a Hawkes process can only model infections, whereas the SIR model also contains recoveries as events. Therefore, Rizoiu et al. calculated an expected value, integrating over the recovery times, which are not observable in the Hawkes process. If we call the set of all recovery times $\\mathcal{T}$, then the main result of Rizoiu et al. is\n",
    "\\begin{align}\n",
    "\\mathbb{E}_{\\mathcal{T}} \\left(  \\lambda_t^{SIR} \\right)\n",
    "= \\left( 1 - \\frac{I_t + R_t}{N} \\right)\n",
    "\\sum\\limits_{t_j < t} \\beta \\text{e}^{-\\gamma (t - t_j)},\n",
    "\\end{align}\n",
    "where $\\beta$ and $\\gamma$ are the parameters of the SIR model. (They also show up in the stochastic differential equations of the model.) $\\beta$ is governing the rate at which infections take place, whereas $\\gamma$ determines how fast people recover."
   ]
  },
  {
   "cell_type": "markdown",
   "metadata": {},
   "source": [
    "Now this looks pretty much like the conditional intensity of a Hawkes process with exponential kernel! To see this more easily, just set $\\mu = 0$,\n",
    "\\begin{align}\n",
    "\\kappa \\theta = \\beta,\n",
    "\\end{align}\n",
    "and\n",
    "\\begin{align}\n",
    "\\theta = \\gamma.\n",
    "\\end{align}\n",
    "Now the only difference is the factor in front of the sum!"
   ]
  },
  {
   "cell_type": "markdown",
   "metadata": {},
   "source": [
    "To eliminate this last difference between the two models, Rizoiu et al. defined the HawkesN process. This process is defined by its conditional intensity, which is the same as that of a Hawkes process, but without the background intensity $\\mu(t)$ and with the additional factor $(1-N_t/N)$, where $N_t$ denotes the HawkesN process at time $t$. So compared to a Hawkes process, the HawkesN process lacks the parameter $\\mu(t)$, but features the additional parameter $N$, which can be interpreted as the population's size."
   ]
  },
  {
   "cell_type": "markdown",
   "metadata": {},
   "source": [
    "This additional factor in the conditional intensity – let's call it HawkesN factor – has an important effect. As is the case with the Hawkes process, infections tend to increase the conditional intensity of the HawkesN process. However, as the number of events rises, this increasing effect declines for the HawkesN process and eventually, further events can even have a decreasing effect, since the factor in front of the sum decreases."
   ]
  },
  {
   "cell_type": "markdown",
   "metadata": {},
   "source": [
    "With diseases we make similar observations. At first, infections increase the probability of further infections. However, as more and more people become infected, the number of susceptibles declines and this lowers the probability of further infections, as there are fewer people left who can become infected."
   ]
  },
  {
   "cell_type": "markdown",
   "metadata": {},
   "source": [
    "Using the link found by Rizoiu et al. we can translate an SIR model easily into a HawkesN process and vice versa using the equations above. This allows one for example to estimate model parameters in one model and then make predictions using the other model."
   ]
  },
  {
   "cell_type": "markdown",
   "metadata": {},
   "source": [
    "### The SEIR Model"
   ]
  },
  {
   "cell_type": "markdown",
   "metadata": {},
   "source": [
    "The SEIR model is a generalization of the SIR model, adding a compartment between S and I. This compartment is called E, which stands for *exposed*. Members of this group are infected, but are not able to infect others yet. After some time, people move on to compartment I, which means that they become infectious. The states and possible transitions are summarized in the following figure."
   ]
  },
  {
   "cell_type": "markdown",
   "metadata": {},
   "source": [
    "![SEIR model](./fig/flowcharts/seir.svg)"
   ]
  },
  {
   "cell_type": "markdown",
   "metadata": {},
   "source": [
    "The additional compartment allows for modeling incubation time – a key characteristic of many infectious diseases.{% fn 5 %}\n",
    "\n",
    "{{ 'The incubation time – that is the time a persion spends in compartment E – depends on the model parameter $\\sigma$. The lower the value of $\\sigma$, the longer the incubation period. You can see this effect in the interactive chart at the top of this blog post; just move the slider for $\\sigma$ and see what happens.' | fndetail: 5 }}"
   ]
  },
  {
   "cell_type": "markdown",
   "metadata": {},
   "source": [
    "We have found that the SEIR model also has a close relationship to the HawkesN process. However, for the expectation of the conditional intensity $\\lambda_t^{SEIR}$ to match that of a HawkesN process, the kernel of the HawkesN process must not be the exponential kernel, but rather the *hypoexponential* kernel or the *Erlang* kernel. The conditional intensity with a hypoexponential kernel looks like\n",
    "\\begin{align}\n",
    "\\lambda_t\n",
    "= \\left(\n",
    "    1 - \\frac{N_t}{N}\n",
    "  \\right)\n",
    "  \\sum_{t_j < t}\n",
    "    \\kappa \\frac{\\theta \\sigma}{\\theta - \\sigma}\n",
    "    \\left( \n",
    "      \\text{e}^{-\\sigma (t-t_j)} - \\text{e}^{-\\theta (t-t_j)}\n",
    "    \\right),\n",
    "\\end{align}\n",
    "where everything that follows the scale parameter $\\kappa$ is the density of a hypoexponential distribution."
   ]
  },
  {
   "cell_type": "markdown",
   "metadata": {},
   "source": [
    "You may notice that this formula doesn't work for the case $\\sigma = \\theta$, as we would divide by zero. We have shown that in this case the link between SEIR and HawkesN is established with the Erlang kernel, which leads to the conditional intensity\n",
    "\\begin{align}\n",
    "\\lambda_t\n",
    "= \\left(\n",
    "    1 - \\frac{N_t}{N}\n",
    "  \\right)\n",
    "  \\sum_{t_j < t}\n",
    "    \\kappa \\theta^2\n",
    "    (t-t_j)\n",
    "    \\text{e}^{-\\theta (t-t_j)}\n",
    ".\n",
    "\\end{align}"
   ]
  },
  {
   "cell_type": "markdown",
   "metadata": {},
   "source": [
    "How do these formulas differ from the conditional intensity with an exponential kernel? Have a look at the following chart. You can select a sequence of event times below the chart and the plot will update accordingly. To highlight the conditional intensity with a specific kernel, just klick on the corresponding label in the legend. (To select multiple kernels, hold the shift key while klicking.)"
   ]
  },
  {
   "cell_type": "code",
   "execution_count": 53,
   "metadata": {},
   "outputs": [
    {
     "data": {
      "text/html": [
       "\n",
       "<div id=\"altair-viz-8b013f2a4cae4d83937adf0388711f31\"></div>\n",
       "<script type=\"text/javascript\">\n",
       "  (function(spec, embedOpt){\n",
       "    let outputDiv = document.currentScript.previousElementSibling;\n",
       "    if (outputDiv.id !== \"altair-viz-8b013f2a4cae4d83937adf0388711f31\") {\n",
       "      outputDiv = document.getElementById(\"altair-viz-8b013f2a4cae4d83937adf0388711f31\");\n",
       "    }\n",
       "    const paths = {\n",
       "      \"vega\": \"https://cdn.jsdelivr.net/npm//vega@5?noext\",\n",
       "      \"vega-lib\": \"https://cdn.jsdelivr.net/npm//vega-lib?noext\",\n",
       "      \"vega-lite\": \"https://cdn.jsdelivr.net/npm//vega-lite@4.8.1?noext\",\n",
       "      \"vega-embed\": \"https://cdn.jsdelivr.net/npm//vega-embed@6?noext\",\n",
       "    };\n",
       "\n",
       "    function loadScript(lib) {\n",
       "      return new Promise(function(resolve, reject) {\n",
       "        var s = document.createElement('script');\n",
       "        s.src = paths[lib];\n",
       "        s.async = true;\n",
       "        s.onload = () => resolve(paths[lib]);\n",
       "        s.onerror = () => reject(`Error loading script: ${paths[lib]}`);\n",
       "        document.getElementsByTagName(\"head\")[0].appendChild(s);\n",
       "      });\n",
       "    }\n",
       "\n",
       "    function showError(err) {\n",
       "      outputDiv.innerHTML = `<div class=\"error\" style=\"color:red;\">${err}</div>`;\n",
       "      throw err;\n",
       "    }\n",
       "\n",
       "    function displayChart(vegaEmbed) {\n",
       "      vegaEmbed(outputDiv, spec, embedOpt)\n",
       "        .catch(err => showError(`Javascript Error: ${err.message}<br>This usually means there's a typo in your chart specification. See the javascript console for the full traceback.`));\n",
       "    }\n",
       "\n",
       "    if(typeof define === \"function\" && define.amd) {\n",
       "      requirejs.config({paths});\n",
       "      require([\"vega-embed\"], displayChart, err => showError(`Error loading script: ${err.message}`));\n",
       "    } else if (typeof vegaEmbed === \"function\") {\n",
       "      displayChart(vegaEmbed);\n",
       "    } else {\n",
       "      loadScript(\"vega\")\n",
       "        .then(() => loadScript(\"vega-lite\"))\n",
       "        .then(() => loadScript(\"vega-embed\"))\n",
       "        .catch(showError)\n",
       "        .then(() => displayChart(vegaEmbed));\n",
       "    }\n",
       "  })({\"config\": {\"view\": {\"continuousWidth\": 400, \"continuousHeight\": 300}}, \"data\": {\"url\": \"https://raw.githubusercontent.com/yogabonito/blog/master/_notebooks/fig/conditional_intensities.json\"}, \"mark\": \"line\", \"encoding\": {\"color\": {\"type\": \"nominal\", \"field\": \"kernel\"}, \"opacity\": {\"condition\": {\"value\": 1, \"selection\": \"selector008\"}, \"value\": 0.2}, \"tooltip\": [{\"type\": \"quantitative\", \"field\": \"t\"}, {\"type\": \"quantitative\", \"field\": \"\\u03bb\\u209c\"}, {\"type\": \"nominal\", \"field\": \"kernel\"}], \"x\": {\"type\": \"quantitative\", \"field\": \"t\"}, \"y\": {\"type\": \"quantitative\", \"field\": \"\\u03bb\\u209c\", \"scale\": {\"domain\": [0, 3.5]}}}, \"selection\": {\"selector008\": {\"type\": \"multi\", \"fields\": [\"kernel\"], \"bind\": \"legend\"}, \"event Sequence\": {\"type\": \"single\", \"fields\": [\"event sequence\"], \"bind\": {\"input\": \"radio\", \"options\": [\"{0}\", \"{0, 1, 2}\", \"{0, 1, 2, ..., 9}\"], \"name\": \"Event times: \"}, \"init\": {\"event sequence\": \"{0, 1, 2}\"}}}, \"transform\": [{\"filter\": {\"selection\": \"event Sequence\"}}], \"$schema\": \"https://vega.github.io/schema/vega-lite/v4.8.1.json\"}, {\"mode\": \"vega-lite\"});\n",
       "</script>"
      ],
      "text/plain": [
       "alt.Chart(...)"
      ]
     },
     "execution_count": 53,
     "metadata": {},
     "output_type": "execute_result"
    }
   ],
   "source": [
    "#hide_input\n",
    "event_seq_ids = [\"{0}\",\n",
    "                 \"{0, 1, 2}\",\n",
    "                 \"{0, 1, 2, ..., 9}\"]\n",
    "\n",
    "lambda_t_unicode = \"\\u03BBₜ\"\n",
    "\n",
    "url_conditional_intensities = \"https://raw.githubusercontent.com/yogabonito/blog/master/_notebooks/fig/conditional_intensities.json\"\n",
    "\n",
    "selection_kernel = alt.selection_multi(fields=['kernel'], bind='legend')\n",
    "\n",
    "event_seq_radio = alt.binding_radio(options=event_seq_ids,\n",
    "                                    name=\"Event times: \")\n",
    "event_seq_select = alt.selection_single(fields=[\"event sequence\"],\n",
    "                                        bind=event_seq_radio,\n",
    "                                        name=\"event Sequence\",\n",
    "                                        init={\"event sequence\": event_seq_ids[1]})\n",
    "\n",
    "alt.Chart(url_conditional_intensities).mark_line().encode(\n",
    "    x=\"t:Q\",\n",
    "    #y=lambda_t_unicode+\":Q\",\n",
    "    y=alt.Y(\n",
    "        lambda_t_unicode + \":Q\",\n",
    "        scale=alt.Scale(domain=(0, 3.5))\n",
    "    ),\n",
    "    color=\"kernel:N\",\n",
    "    tooltip=[\"t:Q\", lambda_t_unicode + \":Q\", \"kernel:N\"],\n",
    "    opacity=alt.condition(selection_kernel, alt.value(1), alt.value(0.2)),\n",
    ").add_selection(\n",
    "    selection_kernel\n",
    ").add_selection(\n",
    "    event_seq_select\n",
    ").transform_filter(\n",
    "    event_seq_select\n",
    ")"
   ]
  },
  {
   "cell_type": "markdown",
   "metadata": {},
   "source": [
    "We can see that a high value of the parameter $\\sigma$ leads to a conditional intensity that resembles that with an exponential kernel. That's because the hypoexponential kernel converges to the exponential one – a property inherited from the densities of the hypoexponential and the exponential distribution:\n",
    "\\begin{align}\n",
    "\\lim_{\\sigma \\to \\infty}\n",
    "\\frac{\\theta \\sigma}{\\theta - \\sigma}\n",
    "    \\left( \n",
    "      \\text{e}^{-\\sigma (t-t_j)} - \\text{e}^{-\\theta (t-t_j)}\n",
    "    \\right)\n",
    "= \\theta \\text{e}^{-\\theta (t - t_j)}.\n",
    "\\end{align}\n",
    "\n",
    "\n",
    "The same relationship exists between the SEIR model and the SIR model. When $\\sigma$ goes to infinity, the time spent in compartment E goes to zero, thus eliminating the need for this compartment."
   ]
  },
  {
   "cell_type": "markdown",
   "metadata": {},
   "source": [
    "Now, let's have a look at smaller values of $\\sigma$. They lead to a large delay with which the conditional intensity increases. In the SEIR model a lower $\\sigma$ means that people spend more time in compartment E where they are not yet able to infect others. Thus, an infection doesn't immediately increase the probability of further infections but only does so with some delay."
   ]
  },
  {
   "cell_type": "markdown",
   "metadata": {},
   "source": [
    "If we select the event sequence $\\{0, 1, 2, \\ldots, 9\\}$ below the chart, we can see that the conditional intensity drops to zero at $t=9$. This is because in this example we assumed a population of only ten people. At $t=9$, the $10^{\\text{th}}$ event occurs, so the factor $(1 - 10 / 10)$ in the conditional intensity of a HawkesN process becomes zero.\n",
    "\n",
    "In an S(E)IR model this $10^{\\text{th}}$ infection event has the same effect. As soon as everybody left the group of susceptibles, there is nobody left who can get infected."
   ]
  },
  {
   "cell_type": "markdown",
   "metadata": {},
   "source": [
    "The event sequence with ten events nicely reflects how infections can have an increasing effect on the conditional intensity at first. However, we can also see that the last two events decrease $\\lambda_t$ – just as discussed above when we defined the HawkesN factor. Note that this decreasing effect eventually prevails irrespective of the kernel function used."
   ]
  },
  {
   "cell_type": "markdown",
   "metadata": {},
   "source": [
    "## Summary"
   ]
  },
  {
   "cell_type": "markdown",
   "metadata": {},
   "source": [
    "In this blog post we have briefly presented the link between the SEIR model and Hawkes processes, which can be seen as a generalization of Rizoiu et al.'s work. Further generalizations are possible and we believe that they can proof valuable for researchers utilizing extensions to the basic compartmental epidemic models."
   ]
  },
  {
   "cell_type": "markdown",
   "metadata": {},
   "source": [
    "## References"
   ]
  },
  {
   "cell_type": "markdown",
   "metadata": {},
   "source": [
    "{{ 'Hawkes (1971): \"Spectra of some self-exciting and mutually exciting point processes\"' | fndetail: 1 }}\n",
    "\n",
    "{{ 'Rizoiu et al. (2018): \"SIR-Hawkes: Linking Epidemic Models and Hawkes Processes to Model Diffusions in Finite Populations\"' | fndetail: 2 }}\n",
    "\n",
    "{{ 'https://todo' | fndetail: 3 }}\n",
    "\n",
    "{{ 'https://mathworld.wolfram.com/HawkesProcess.html' | fndetail: 4 }}"
   ]
  }
 ],
 "metadata": {
  "kernelspec": {
   "display_name": "Python 3",
   "language": "python",
   "name": "python3"
  },
  "language_info": {
   "codemirror_mode": {
    "name": "ipython",
    "version": 3
   },
   "file_extension": ".py",
   "mimetype": "text/x-python",
   "name": "python",
   "nbconvert_exporter": "python",
   "pygments_lexer": "ipython3",
   "version": "3.7.6"
  }
 },
 "nbformat": 4,
 "nbformat_minor": 4
}
